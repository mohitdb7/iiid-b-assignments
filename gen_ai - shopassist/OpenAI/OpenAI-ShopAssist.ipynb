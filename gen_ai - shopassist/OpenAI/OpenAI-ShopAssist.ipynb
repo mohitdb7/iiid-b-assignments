{
 "cells": [
  {
   "cell_type": "code",
   "execution_count": 5,
   "id": "09fb3d01-3917-4f40-ba25-1225667bbb45",
   "metadata": {},
   "outputs": [
    {
     "name": "stdout",
     "output_type": "stream",
     "text": [
      "I am also smart I am smart\n"
     ]
    }
   ],
   "source": [
    "myVal = \"I am smart\"\n",
    "myVal2 = \"I am also smart {myVal}\".format(myVal=myVal)\n",
    "print(\"{myVal2}\".format(myVal2=myVal2))"
   ]
  },
  {
   "cell_type": "code",
   "execution_count": null,
   "id": "28e3c434-6905-4000-9a3c-dc71a8c5d351",
   "metadata": {},
   "outputs": [],
   "source": []
  },
  {
   "cell_type": "code",
   "execution_count": null,
   "id": "1eb9e39b-bd9b-42bf-8204-90db523fd50c",
   "metadata": {},
   "outputs": [],
   "source": []
  }
 ],
 "metadata": {
  "kernelspec": {
   "display_name": "Python 3 (ipykernel)",
   "language": "python",
   "name": "python3"
  },
  "language_info": {
   "codemirror_mode": {
    "name": "ipython",
    "version": 3
   },
   "file_extension": ".py",
   "mimetype": "text/x-python",
   "name": "python",
   "nbconvert_exporter": "python",
   "pygments_lexer": "ipython3",
   "version": "3.11.5"
  }
 },
 "nbformat": 4,
 "nbformat_minor": 5
}
